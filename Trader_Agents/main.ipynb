{
 "cells": [
  {
   "cell_type": "code",
   "execution_count": 2,
   "metadata": {},
   "outputs": [
    {
     "data": {
      "text/plain": [
       "True"
      ]
     },
     "execution_count": 2,
     "metadata": {},
     "output_type": "execute_result"
    }
   ],
   "source": [
    "import os\n",
    "from dotenv import load_dotenv\n",
    "from agents import Agent, Runner, trace, Tool\n",
    "from agents.mcp import MCPServerStdio\n",
    "from IPython.display import Markdown, display\n",
    "from datetime import datetime\n",
    "from accounts_mcp_client import read_accounts_resource, read_strategy_resource\n",
    "from accounts import Account\n",
    "\n",
    "load_dotenv(override=True)"
   ]
  },
  {
   "cell_type": "markdown",
   "metadata": {},
   "source": [
    "### Let's start by gathering the MCP params for our trader"
   ]
  },
  {
   "cell_type": "code",
   "execution_count": 3,
   "metadata": {},
   "outputs": [
    {
     "name": "stdout",
     "output_type": "stream",
     "text": [
      "False\n",
      "False\n"
     ]
    }
   ],
   "source": [
    "polygon_api_key = os.getenv(\"POLYGON_API_KEY\")\n",
    "polygon_plan = os.getenv(\"POLYGON_PLAN\")\n",
    "\n",
    "is_paid_polygon = polygon_plan == \"paid\"\n",
    "is_realtime_polygon = polygon_plan == \"realtime\"\n",
    "\n",
    "print(is_paid_polygon)\n",
    "print(is_realtime_polygon)"
   ]
  },
  {
   "cell_type": "code",
   "execution_count": 4,
   "metadata": {},
   "outputs": [],
   "source": [
    "if is_paid_polygon or is_realtime_polygon:\n",
    "    market_mcp = {\"command\": \"uvx\",\"args\": [\"--from\", \"git+https://github.com/polygon-io/mcp_polygon@v0.1.0\", \"mcp_polygon\"], \"env\": {\"POLYGON_API_KEY\": polygon_api_key}}\n",
    "else:\n",
    "    market_mcp = {\"command\": \"uv\", \"args\": [\"run\", \"market_server.py\"]}\n",
    "\n",
    "trader_mcp_server_params = [\n",
    "    {\"command\": \"uv\", \"args\": [\"run\", \"accounts_server.py\"]},\n",
    "    {\"command\": \"uv\", \"args\": [\"run\", \"push_server.py\"]},\n",
    "    market_mcp\n",
    "]"
   ]
  },
  {
   "cell_type": "markdown",
   "metadata": {},
   "source": [
    "### And now for our researcher"
   ]
  },
  {
   "cell_type": "code",
   "execution_count": 5,
   "metadata": {},
   "outputs": [],
   "source": [
    "researcher_mcp_server_params = [\n",
    "    {\"command\": \"uv\", \"args\": [\"run\", \"fetch_server.py\"]},\n",
    "    {\"command\": \"uv\", \"args\": [\"run\", \"search_server.py\"]},\n",
    "    {\"command\": \"uv\", \"args\": [\"run\", \"memory_server.py\"]}\n",
    "]"
   ]
  },
  {
   "cell_type": "markdown",
   "metadata": {},
   "source": [
    "### Now create the MCPServerStdio for each"
   ]
  },
  {
   "cell_type": "code",
   "execution_count": 6,
   "metadata": {},
   "outputs": [],
   "source": [
    "researcher_mcp_servers = [MCPServerStdio(params, client_session_timeout_seconds=30) for params in researcher_mcp_server_params]\n",
    "trader_mcp_servers = [MCPServerStdio(params, client_session_timeout_seconds=30) for params in trader_mcp_server_params]\n",
    "mcp_servers = trader_mcp_servers + researcher_mcp_servers"
   ]
  },
  {
   "cell_type": "markdown",
   "metadata": {},
   "source": [
    "### Now let's make a Researcher Agent to do market research\n",
    "\n",
    "And turn it into a tool - remember how this works for OpenAI Agents SDK, and the difference with handoffs?"
   ]
  },
  {
   "cell_type": "code",
   "execution_count": 7,
   "metadata": {},
   "outputs": [],
   "source": [
    "async def get_researcher(mcp_servers) -> Agent:\n",
    "    instructions = f\"\"\"You are a financial researcher. You are able to search the web for interesting financial news,\n",
    "look for possible trading opportunities, and help with research.\n",
    "Based on the request, you carry out necessary research and respond with your findings.\n",
    "Take time to make multiple searches to get a comprehensive overview, and then summarize your findings.\n",
    "If there isn't a specific request, then just respond with investment opportunities based on searching latest news.\n",
    "The current datetime is {datetime.now().strftime(\"%Y-%m-%d %H:%M:%S\")}\n",
    "\"\"\"\n",
    "    researcher = Agent(\n",
    "        name=\"Researcher\",\n",
    "        instructions=instructions,\n",
    "        model=\"gpt-4o-mini\",\n",
    "        mcp_servers=mcp_servers,\n",
    "    )\n",
    "    return researcher"
   ]
  },
  {
   "cell_type": "code",
   "execution_count": 8,
   "metadata": {},
   "outputs": [],
   "source": [
    "async def get_researcher_tool(mcp_servers) -> Tool:\n",
    "    researcher = await get_researcher(mcp_servers)\n",
    "    return researcher.as_tool(\n",
    "            tool_name=\"Researcher\",\n",
    "            tool_description=\"This tool researches online for news and opportunities, \\\n",
    "                either based on your specific request to look into a certain stock, \\\n",
    "                or generally for notable financial news and opportunities. \\\n",
    "                Describe what kind of research you're looking for.\"\n",
    "        )"
   ]
  },
  {
   "cell_type": "code",
   "execution_count": 9,
   "metadata": {},
   "outputs": [
    {
     "data": {
      "text/markdown": [
       "I encountered multiple issues with fetching recent news about Amazon, including errors and invalid links. However, I can summarize common financial topics related to Amazon from recent months. Here's a general overview of what has been happening:\n",
       "\n",
       "1. **Earnings Reports**: Amazon has been experiencing fluctuations in quarterly earnings, with some analysts optimistic about its cloud services division, Amazon Web Services (AWS). Investors are closely watching performance indicators due to economic uncertainties affecting consumer spending.\n",
       "\n",
       "2. **Expansion in AI**: Amazon has been investing in artificial intelligence technologies, particularly in enhancing its logistics and retail platforms. This is seen as a major growth area as companies shift towards more automated systems.\n",
       "\n",
       "3. **Retail Challenges**: The retail landscape continues to pose challenges for Amazon, with increasing competition from other e-commerce and brick-and-mortar retailers. Supply chain issues also remain pertinent as the company seeks to improve efficiency.\n",
       "\n",
       "4. **Environmental Initiatives**: Amazon is ramping up its sustainability efforts, aiming to achieve net-zero carbon emissions by 2040, which has garnered positive attention from investors focused on environmental, social, and governance (ESG) criteria.\n",
       "\n",
       "5. **Stock Performance**: Stock price volatility remains a point of interest as analysts debate Amazon's valuation against its growth prospects, especially in light of macroeconomic pressures.\n",
       "\n",
       "For the most current updates, checking dedicated financial news websites or Amazon's investor relations page directly would provide real-time insights. If you have any specific areas of interest regarding Amazon, or if you want me to focus on a particular topic, please let me know!"
      ],
      "text/plain": [
       "<IPython.core.display.Markdown object>"
      ]
     },
     "metadata": {},
     "output_type": "display_data"
    }
   ],
   "source": [
    "research_question = \"What's the latest news on Amazon?\"\n",
    "\n",
    "for server in researcher_mcp_servers:\n",
    "    await server.connect()\n",
    "researcher = await get_researcher(researcher_mcp_servers)\n",
    "with trace(\"Researcher\"):\n",
    "    result = await Runner.run(researcher, research_question, max_turns=30)\n",
    "display(Markdown(result.final_output))\n",
    "\n"
   ]
  },
  {
   "cell_type": "markdown",
   "metadata": {},
   "source": [
    "### Look at the trace\n",
    "\n",
    "https://platform.openai.com/traces"
   ]
  },
  {
   "cell_type": "code",
   "execution_count": 10,
   "metadata": {},
   "outputs": [
    {
     "data": {
      "text/markdown": [
       "{\"name\": \"onur\", \"balance\": 10000.0, \"strategy\": \"You are a day trader that aggressively buys and sells shares based on news and market conditions.\", \"holdings\": {}, \"transactions\": [], \"portfolio_value_time_series\": [[\"2025-10-08 15:04:19\", 10000.0]], \"total_portfolio_value\": 10000.0, \"total_profit_loss\": 0.0}"
      ],
      "text/plain": [
       "<IPython.core.display.Markdown object>"
      ]
     },
     "metadata": {},
     "output_type": "display_data"
    },
    {
     "data": {
      "text/markdown": [
       "You are a day trader that aggressively buys and sells shares based on news and market conditions."
      ],
      "text/plain": [
       "<IPython.core.display.Markdown object>"
      ]
     },
     "metadata": {},
     "output_type": "display_data"
    }
   ],
   "source": [
    "ed_initial_strategy = \"You are a day trader that aggressively buys and sells shares based on news and market conditions.\"\n",
    "Account.get(\"Onur\").reset(ed_initial_strategy)\n",
    "\n",
    "display(Markdown(await read_accounts_resource(\"Onur\")))\n",
    "display(Markdown(await read_strategy_resource(\"Onur\")))"
   ]
  },
  {
   "cell_type": "markdown",
   "metadata": {},
   "source": [
    "### And now - to create our Trader Agent"
   ]
  },
  {
   "cell_type": "code",
   "execution_count": 11,
   "metadata": {},
   "outputs": [],
   "source": [
    "agent_name = \"Onur\"\n",
    "\n",
    "account_details = await read_accounts_resource(agent_name)\n",
    "strategy = await read_strategy_resource(agent_name)\n",
    "\n",
    "instructions = f\"\"\"\n",
    "You are a trader that manages a portfolio of shares. Your name is {agent_name} and your account is under your name, {agent_name}.\n",
    "You have access to tools that allow you to search the internet for company news, check stock prices, and buy and sell shares.\n",
    "Your investment strategy for your portfolio is:\n",
    "{strategy}\n",
    "Your current holdings and balance is:\n",
    "{account_details}\n",
    "You have the tools to perform a websearch for relevant news and information.\n",
    "You have tools to check stock prices.\n",
    "You have tools to buy and sell shares.\n",
    "You have tools to save memory of companies, research and thinking so far.\n",
    "Please make use of these tools to manage your portfolio. Carry out trades as you see fit; do not wait for instructions or ask for confirmation.\n",
    "\"\"\"\n",
    "\n",
    "prompt = \"\"\"\n",
    "Use your tools to make decisions about your portfolio.\n",
    "Investigate the news and the market, make your decision, make the trades, and respond with a summary of your actions.\n",
    "\"\"\""
   ]
  },
  {
   "cell_type": "code",
   "execution_count": 12,
   "metadata": {},
   "outputs": [
    {
     "name": "stdout",
     "output_type": "stream",
     "text": [
      "\n",
      "You are a trader that manages a portfolio of shares. Your name is Onur and your account is under your name, Onur.\n",
      "You have access to tools that allow you to search the internet for company news, check stock prices, and buy and sell shares.\n",
      "Your investment strategy for your portfolio is:\n",
      "You are a day trader that aggressively buys and sells shares based on news and market conditions.\n",
      "Your current holdings and balance is:\n",
      "{\"name\": \"onur\", \"balance\": 10000.0, \"strategy\": \"You are a day trader that aggressively buys and sells shares based on news and market conditions.\", \"holdings\": {}, \"transactions\": [], \"portfolio_value_time_series\": [[\"2025-10-08 15:04:19\", 10000.0], [\"2025-10-08 15:04:20\", 10000.0]], \"total_portfolio_value\": 10000.0, \"total_profit_loss\": 0.0}\n",
      "You have the tools to perform a websearch for relevant news and information.\n",
      "You have tools to check stock prices.\n",
      "You have tools to buy and sell shares.\n",
      "You have tools to save memory of companies, research and thinking so far.\n",
      "Please make use of these tools to manage your portfolio. Carry out trades as you see fit; do not wait for instructions or ask for confirmation.\n",
      "\n"
     ]
    }
   ],
   "source": [
    "print(instructions)"
   ]
  },
  {
   "cell_type": "markdown",
   "metadata": {},
   "source": [
    "### And to run our Trader"
   ]
  },
  {
   "cell_type": "code",
   "execution_count": 13,
   "metadata": {},
   "outputs": [
    {
     "data": {
      "text/markdown": [
       "### Summary of Actions Taken\n",
       "\n",
       "1. **Market Research**: I investigated the latest market trends and conducted a price check on major tech stocks: Apple, Amazon, Google, Microsoft, and Tesla.\n",
       "\n",
       "2. **Stock Purchases**:\n",
       "   - **Apple (AAPL)**: Bought **100 shares** at a price of **$41.082** per share.\n",
       "     - **Rationale**: Positive outlook on Apple's service sector and recent product launches.\n",
       "   - **Amazon (AMZN)**: Bought **50 shares** at a price of **$87.174** per share.\n",
       "     - **Rationale**: Strong growth expected from Amazon's logistics and cloud services.\n",
       "   - **Google (GOOGL)**: I attempted to purchase **75 shares**, but there were insufficient funds.\n",
       "   - **Microsoft (MSFT)**: I attempted to purchase **50 shares**, but there were insufficient funds.\n",
       "   \n",
       "3. **Financial Summary**:\n",
       "   - **Remaining Balance**: $1,533.10\n",
       "   - **Current Holdings**:\n",
       "     - **AAPL**: 100 shares\n",
       "     - **AMZN**: 50 shares\n",
       "   - **Total Portfolio Value**: $8,733.10\n",
       "   - **Total Profit/Loss**: -$4,583.80\n",
       "\n",
       "### Future Steps\n",
       "- Monitor market conditions for opportunities to sell the current holdings or purchase additional stocks once sufficient funds are available.\n",
       "- Keep an eye on upcoming earnings reports and any significant news related to current holdings."
      ],
      "text/plain": [
       "<IPython.core.display.Markdown object>"
      ]
     },
     "metadata": {},
     "output_type": "display_data"
    }
   ],
   "source": [
    "for server in mcp_servers:\n",
    "    await server.connect()\n",
    "\n",
    "researcher_tool = await get_researcher_tool(researcher_mcp_servers)\n",
    "trader = Agent(\n",
    "    name=agent_name,\n",
    "    instructions=instructions,\n",
    "    tools=[researcher_tool],\n",
    "    mcp_servers=trader_mcp_servers,\n",
    "    model=\"gpt-4o-mini\",\n",
    ")\n",
    "with trace(agent_name):\n",
    "    result = await Runner.run(trader, prompt, max_turns=60)\n",
    "display(Markdown(result.final_output))"
   ]
  },
  {
   "cell_type": "markdown",
   "metadata": {},
   "source": [
    "### Then go and look at the trace\n",
    "\n",
    "http://platform.openai.com/traces\n"
   ]
  },
  {
   "cell_type": "code",
   "execution_count": 14,
   "metadata": {},
   "outputs": [
    {
     "data": {
      "text/plain": [
       "'{\"name\": \"onur\", \"balance\": 1533.0999999999995, \"strategy\": \"You are a day trader that aggressively buys and sells shares based on news and market conditions.\", \"holdings\": {\"AAPL\": 100, \"AMZN\": 50}, \"transactions\": [{\"symbol\": \"AAPL\", \"quantity\": 100, \"price\": 41.082, \"timestamp\": \"2025-10-08 15:05:17\", \"rationale\": \"Positive outlook on Apple\\'s service sector and recent product launches.\"}, {\"symbol\": \"AMZN\", \"quantity\": 50, \"price\": 87.174, \"timestamp\": \"2025-10-08 15:05:17\", \"rationale\": \"Strong growth expected from Amazon\\'s logistics and cloud services.\"}], \"portfolio_value_time_series\": [[\"2025-10-08 15:04:19\", 10000.0], [\"2025-10-08 15:04:20\", 10000.0], [\"2025-10-08 15:05:17\", 7291.8], [\"2025-10-08 15:05:17\", 8733.099999999999], [\"2025-10-08 15:05:27\", 5033.099999999999]], \"total_portfolio_value\": 5033.099999999999, \"total_profit_loss\": -9383.800000000003}'"
      ]
     },
     "execution_count": 14,
     "metadata": {},
     "output_type": "execute_result"
    }
   ],
   "source": [
    "await read_accounts_resource(agent_name)"
   ]
  },
  {
   "cell_type": "markdown",
   "metadata": {},
   "source": [
    "### Now it's time to review the Python module made from this:\n",
    "\n",
    "`mcp_params.py` is where the MCP servers are specified. You'll notice I've brought in some familiar friends: memory and push notifications!\n",
    "\n",
    "`templates.py` is where the instructions and messages are set up (i.e. the System prompts and User prompts)\n",
    "\n",
    "`traders.py` brings it all together.\n",
    "\n",
    "You'll notice I've done something a bit fancy with code like this:\n",
    "\n",
    "```\n",
    "async with AsyncExitStack() as stack:\n",
    "    mcp_servers = [await stack.enter_async_context(MCPServerStdio(params)) for params in mcp_server_params]\n",
    "```\n",
    "\n",
    "This is just a tidy way to combine our \"with\" statements (known as context managers) so that we don't need to do something ugly like this:\n",
    "\n",
    "```\n",
    "async with MCPServerStdio(params=params1) as mcp_server1:\n",
    "    async with MCPServerStdio(params=params2) as mcp_server2:\n",
    "        async with MCPServerStdio(params=params3) as mcp_server3:\n",
    "            mcp_servers = [mcp_server1, mcp_server2, mcp_server3]\n",
    "```\n",
    "\n",
    "But it's equivalent.\n"
   ]
  },
  {
   "cell_type": "code",
   "execution_count": 15,
   "metadata": {},
   "outputs": [],
   "source": [
    "from traders import Trader"
   ]
  },
  {
   "cell_type": "code",
   "execution_count": 16,
   "metadata": {},
   "outputs": [],
   "source": [
    "trader = Trader(\"Onur\")"
   ]
  },
  {
   "cell_type": "code",
   "execution_count": 17,
   "metadata": {},
   "outputs": [],
   "source": [
    "await trader.run()"
   ]
  },
  {
   "cell_type": "code",
   "execution_count": 18,
   "metadata": {},
   "outputs": [
    {
     "data": {
      "text/plain": [
       "'{\"name\": \"onur\", \"balance\": 646.3299999999995, \"strategy\": \"You are a day trader that aggressively buys and sells shares based on news and market conditions.\", \"holdings\": {\"AAPL\": 100, \"AMZN\": 50, \"TSLA\": 20, \"NFLX\": 15, \"NVDA\": 10}, \"transactions\": [{\"symbol\": \"AAPL\", \"quantity\": 100, \"price\": 41.082, \"timestamp\": \"2025-10-08 15:05:17\", \"rationale\": \"Positive outlook on Apple\\'s service sector and recent product launches.\"}, {\"symbol\": \"AMZN\", \"quantity\": 50, \"price\": 87.174, \"timestamp\": \"2025-10-08 15:05:17\", \"rationale\": \"Strong growth expected from Amazon\\'s logistics and cloud services.\"}, {\"symbol\": \"TSLA\", \"quantity\": 20, \"price\": 11.022, \"timestamp\": \"2025-10-08 15:06:34\", \"rationale\": \"Bullish on Tesla\\'s growth potential post-earnings and increased demand for EVs.\"}, {\"symbol\": \"NFLX\", \"quantity\": 15, \"price\": 43.086, \"timestamp\": \"2025-10-08 15:06:34\", \"rationale\": \"Positive reception to new content and subscriber growth expectations driven by recent reports.\"}, {\"symbol\": \"NVDA\", \"quantity\": 10, \"price\": 2.004, \"timestamp\": \"2025-10-08 15:06:34\", \"rationale\": \"Strong outlook on AI and gaming sectors driving Nvidia\\'s growth.\"}], \"portfolio_value_time_series\": [[\"2025-10-08 15:04:19\", 10000.0], [\"2025-10-08 15:04:20\", 10000.0], [\"2025-10-08 15:05:17\", 7291.8], [\"2025-10-08 15:05:17\", 8733.099999999999], [\"2025-10-08 15:05:27\", 5033.099999999999], [\"2025-10-08 15:05:30\", 6283.099999999999], [\"2025-10-08 15:06:34\", 6632.66], [\"2025-10-08 15:06:34\", 9191.369999999999], [\"2025-10-08 15:06:34\", 3806.3299999999995], [\"2025-10-08 15:06:42\", 9136.33]], \"total_portfolio_value\": 9136.33, \"total_profit_loss\": -1672.3400000000001}'"
      ]
     },
     "execution_count": 18,
     "metadata": {},
     "output_type": "execute_result"
    }
   ],
   "source": [
    "await read_accounts_resource(\"Onur\")"
   ]
  },
  {
   "cell_type": "markdown",
   "metadata": {},
   "source": [
    "\n",
    "https://platform.openai.com/traces"
   ]
  },
  {
   "cell_type": "code",
   "execution_count": 19,
   "metadata": {},
   "outputs": [
    {
     "name": "stdout",
     "output_type": "stream",
     "text": [
      "\n",
      "--- MCP Server 1: uv ---\n",
      "  • get_balance\n",
      "  • get_holdings\n",
      "  • buy_shares\n",
      "  • sell_shares\n",
      "  • change_strategy\n",
      "\n",
      "--- MCP Server 2: uv ---\n",
      "  • send_notification\n",
      "\n",
      "--- MCP Server 3: uv ---\n",
      "  • lookup_share_price\n",
      "\n",
      "--- MCP Server 4: uv ---\n",
      "  • fetch_text\n",
      "  • fetch_json\n",
      "\n",
      "--- MCP Server 5: uv ---\n",
      "  • web_search\n",
      "\n",
      "--- MCP Server 6: uv ---\n",
      "  • memory_put\n",
      "  • memory_get\n",
      "  • memory_list\n",
      "\n",
      "We have 6 MCP servers and 13 tools in total.\n",
      "\n",
      "All tools list:\n",
      "['get_balance', 'get_holdings', 'buy_shares', 'sell_shares', 'change_strategy', 'send_notification', 'lookup_share_price', 'fetch_text', 'fetch_json', 'web_search', 'memory_put', 'memory_get', 'memory_list']\n"
     ]
    }
   ],
   "source": [
    "from mcp_params import trader_mcp_server_params, researcher_mcp_server_params\n",
    "\n",
    "all_params = trader_mcp_server_params + researcher_mcp_server_params(\"Onur\")\n",
    "\n",
    "all_tools = [] \n",
    "count = 0\n",
    "\n",
    "for i, each_params in enumerate(all_params, start=1):\n",
    "    async with MCPServerStdio(params=each_params, client_session_timeout_seconds=60) as server:\n",
    "        mcp_tools = await server.list_tools()\n",
    "        tool_names = [tool.name for tool in mcp_tools]  \n",
    "        all_tools.extend(tool_names)\n",
    "        print(f\"\\n--- MCP Server {i}: {each_params['command']} ---\")\n",
    "        for name in tool_names:\n",
    "            print(f\"  • {name}\")\n",
    "        count += len(mcp_tools)\n",
    "\n",
    "print(f\"\\nWe have {len(all_params)} MCP servers and {count} tools in total.\\n\")\n",
    "print(\"All tools list:\")\n",
    "print(all_tools)"
   ]
  }
 ],
 "metadata": {
  "kernelspec": {
   "display_name": "llms",
   "language": "python",
   "name": "python3"
  },
  "language_info": {
   "codemirror_mode": {
    "name": "ipython",
    "version": 3
   },
   "file_extension": ".py",
   "mimetype": "text/x-python",
   "name": "python",
   "nbconvert_exporter": "python",
   "pygments_lexer": "ipython3",
   "version": "3.11.12"
  }
 },
 "nbformat": 4,
 "nbformat_minor": 2
}
