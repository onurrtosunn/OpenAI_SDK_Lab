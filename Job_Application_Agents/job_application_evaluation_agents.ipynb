{
 "cells": [
  {
   "cell_type": "code",
   "execution_count": 18,
   "id": "8fc37d19",
   "metadata": {},
   "outputs": [],
   "source": [
    "from dotenv import load_dotenv\n",
    "from agents import Agent, Runner, trace, function_tool\n",
    "from openai.types.responses import ResponseTextDeltaEvent\n",
    "from typing import Dict\n",
    "import sendgrid\n",
    "import os\n",
    "import asyncio\n",
    "from dotenv import load_dotenv\n",
    "from agents import Agent, Runner, trace, function_tool\n",
    "from openai.types.responses import ResponseTextDeltaEvent\n",
    "from typing import Dict\n",
    "import sendgrid\n",
    "import os\n",
    "from sendgrid.helpers.mail import Mail, Email, To, Content\n",
    "import asyncio\n",
    "\n"
   ]
  },
  {
   "cell_type": "code",
   "execution_count": 19,
   "id": "2a80ffdb",
   "metadata": {},
   "outputs": [
    {
     "data": {
      "text/plain": [
       "True"
      ]
     },
     "execution_count": 19,
     "metadata": {},
     "output_type": "execute_result"
    }
   ],
   "source": [
    "load_dotenv(override=True)"
   ]
  },
  {
   "cell_type": "code",
   "execution_count": 20,
   "id": "52f503d4",
   "metadata": {},
   "outputs": [],
   "source": [
    "\n",
    "junior_agent = Agent(\n",
    "    name=\"Junior Candidate\",\n",
    "    instructions=\"You are a junior job applicant. Write a simple, polite job application email highlighting eagerness to learn and basic skills.\",\n",
    "    model=\"gpt-4o-mini\"\n",
    ")\n",
    "\n",
    "mid_agent = Agent(\n",
    "    name=\"Mid-level Candidate\",\n",
    "    instructions=\"You are a mid-level job applicant. Write a professional job application email emphasizing relevant experience and teamwork.\",\n",
    "    model=\"gpt-4o-mini\"\n",
    ")\n",
    "\n",
    "senior_agent = Agent(\n",
    "    name=\"Senior Candidate\",\n",
    "    instructions=\"You are a senior job applicant. Write a persuasive job application email showcasing leadership, achievements, and vision.\",\n",
    "    model=\"gpt-4o-mini\"\n",
    ")\n"
   ]
  },
  {
   "cell_type": "code",
   "execution_count": 21,
   "id": "5d7ed1dc",
   "metadata": {},
   "outputs": [],
   "source": [
    "# Tool’a dönüştürme\n",
    "tool_junior = junior_agent.as_tool(\n",
    "    tool_name=\"junior_candidate\",\n",
    "    tool_description=\"Write a simple job application email as a junior candidate\"\n",
    ")\n",
    "\n",
    "tool_mid = mid_agent.as_tool(\n",
    "    tool_name=\"mid_candidate\",\n",
    "    tool_description=\"Write a professional job application email as a mid-level candidate\"\n",
    ")\n",
    "\n",
    "tool_senior = senior_agent.as_tool(\n",
    "    tool_name=\"senior_candidate\",\n",
    "    tool_description=\"Write an impressive job application email as a senior/experienced candidate\"\n",
    ")\n",
    "\n",
    "candidate_tools = [tool_junior, tool_mid, tool_senior]\n"
   ]
  },
  {
   "cell_type": "code",
   "execution_count": 22,
   "id": "9c0bfdac",
   "metadata": {},
   "outputs": [],
   "source": [
    "description_junior = \"Write a concise and enthusiastic job application email for an entry-level position. \" \\\n",
    "                                        \"Highlight eagerness to learn, relevant academic projects or internships,\" \\\n",
    "                                        \"and a strong foundational understanding of the field.\"\n",
    "\n",
    "description_mid = \"Write a professional and results-oriented job application email for a mid-level role. \" \\\n",
    "                                    \"Focus on past accomplishments, specific metrics (e.g., 'increased efficiency by 15%'), \" \\\n",
    "                                    \"and how their skills align with the job requirements. Emphasize a proactive and collaborative work style.\"\n",
    "\n",
    "description_senior = \"Write a commanding and strategic job application email for a senior leadership or expert role. \" \\\n",
    "                                        \"The email should demonstrate a deep understanding of the industry, a history of leading successful initiatives,\" \\\n",
    "                                        \"and a vision for future contributions. Frame the application as a strategic partnership rather than a simple job request.\""
   ]
  },
  {
   "cell_type": "code",
   "execution_count": 23,
   "id": "b73d2183",
   "metadata": {},
   "outputs": [],
   "source": [
    "junior_agent = junior_agent.as_tool(tool_name=\"junior_candidate\", tool_description=description_junior)\n",
    "mid_agent = mid_agent.as_tool(tool_name=\"mid_candidate\", tool_description=description_mid)\n",
    "senior_agent = senior_agent.as_tool(tool_name=\"senior_candidate\", tool_description=description_senior)\n"
   ]
  },
  {
   "cell_type": "code",
   "execution_count": 24,
   "id": "b555ff8f",
   "metadata": {},
   "outputs": [],
   "source": [
    "candidate_tools = [junior_agent, mid_agent, senior_agent]"
   ]
  },
  {
   "cell_type": "code",
   "execution_count": 25,
   "id": "ad709630",
   "metadata": {},
   "outputs": [
    {
     "data": {
      "text/plain": [
       "[FunctionTool(name='junior_candidate', description='Write a concise and enthusiastic job application email for an entry-level position. Highlight eagerness to learn, relevant academic projects or internships,and a strong foundational understanding of the field.', params_json_schema={'properties': {'input': {'title': 'Input', 'type': 'string'}}, 'required': ['input'], 'title': 'junior_candidate_args', 'type': 'object', 'additionalProperties': False}, on_invoke_tool=<function function_tool.<locals>._create_function_tool.<locals>._on_invoke_tool at 0x74dfbbf9be20>, strict_json_schema=True, is_enabled=True),\n",
       " FunctionTool(name='mid_candidate', description=\"Write a professional and results-oriented job application email for a mid-level role. Focus on past accomplishments, specific metrics (e.g., 'increased efficiency by 15%'), and how their skills align with the job requirements. Emphasize a proactive and collaborative work style.\", params_json_schema={'properties': {'input': {'title': 'Input', 'type': 'string'}}, 'required': ['input'], 'title': 'mid_candidate_args', 'type': 'object', 'additionalProperties': False}, on_invoke_tool=<function function_tool.<locals>._create_function_tool.<locals>._on_invoke_tool at 0x74dfc1033b00>, strict_json_schema=True, is_enabled=True),\n",
       " FunctionTool(name='senior_candidate', description='Write a commanding and strategic job application email for a senior leadership or expert role. The email should demonstrate a deep understanding of the industry, a history of leading successful initiatives,and a vision for future contributions. Frame the application as a strategic partnership rather than a simple job request.', params_json_schema={'properties': {'input': {'title': 'Input', 'type': 'string'}}, 'required': ['input'], 'title': 'senior_candidate_args', 'type': 'object', 'additionalProperties': False}, on_invoke_tool=<function function_tool.<locals>._create_function_tool.<locals>._on_invoke_tool at 0x74dfbbbbe7a0>, strict_json_schema=True, is_enabled=True)]"
      ]
     },
     "execution_count": 25,
     "metadata": {},
     "output_type": "execute_result"
    }
   ],
   "source": [
    "candidate_tools"
   ]
  },
  {
   "cell_type": "code",
   "execution_count": 26,
   "id": "32d94e44",
   "metadata": {},
   "outputs": [],
   "source": [
    "subject_instructions = \"\"\"\n",
    "You can write a subject for a job application email.\n",
    "You are given a message and you need to write a subject line that will catch the HR manager's attention.\n",
    "\"\"\"\n"
   ]
  },
  {
   "cell_type": "code",
   "execution_count": 27,
   "id": "90c5b2d8",
   "metadata": {},
   "outputs": [],
   "source": [
    "subject_writer = Agent(\n",
    "    name=\"Job Application Subject Writer\",\n",
    "    instructions=subject_instructions,\n",
    "    model=\"gpt-4o-mini\"\n",
    ")\n",
    "subject_tool = subject_writer.as_tool(\n",
    "    tool_name=\"subject_writer\",\n",
    "    tool_description=\"Write a subject for a job application email\"\n",
    ")"
   ]
  },
  {
   "cell_type": "code",
   "execution_count": 28,
   "id": "74b4d9a8",
   "metadata": {},
   "outputs": [],
   "source": [
    "html_instructions = \"\"\"\n",
    "You can convert a text email body to an HTML job application email body.\n",
    "You are given a plain text email (may contain markdown) and need to convert it into an HTML email with a clean, professional layout.\n",
    "\"\"\"\n",
    "\n",
    "html_converter = Agent(\n",
    "    name=\"HTML Email Body Converter\",\n",
    "    instructions=html_instructions,\n",
    "    model=\"gpt-4o-mini\"\n",
    ")\n",
    "html_tool = html_converter.as_tool(\n",
    "    tool_name=\"html_converter\",\n",
    "    tool_description=\"Convert a text job application email to HTML format\"\n",
    ")\n"
   ]
  },
  {
   "cell_type": "code",
   "execution_count": 29,
   "id": "fc8bdd49",
   "metadata": {},
   "outputs": [],
   "source": [
    "email_formatter_instructions = \"\"\"\n",
    "You are an email formatter and sender for job applications.\n",
    "You first use the subject_writer tool to write a subject for the email, \n",
    "then use the html_converter tool to convert the email body to HTML, \n",
    "and finally use the send_html_email tool to send the email with the subject and HTML body.\n",
    "\"\"\""
   ]
  },
  {
   "cell_type": "code",
   "execution_count": 30,
   "id": "20338bea",
   "metadata": {},
   "outputs": [],
   "source": [
    "emailer_agent = Agent(\n",
    "    name=\"Job Application Email Manager\",\n",
    "    instructions=email_formatter_instructions,\n",
    "    tools=[subject_tool, html_tool],\n",
    "    model=\"gpt-4o-mini\",\n",
    "    handoff_description=\"Convert a job application email to HTML and send it\"\n",
    ")"
   ]
  },
  {
   "cell_type": "code",
   "execution_count": 31,
   "id": "f2e7f3bf",
   "metadata": {},
   "outputs": [],
   "source": [
    "hr_manager_instructions = \"\"\"\n",
    "You are a discerning HR Manager tasked with finding the perfect candidate for a role. \n",
    "Your job is to select the single most compelling and appropriate application email from the three candidates (junior, mid-level, senior).\n",
    "Evaluate the applications based on their strategic fit for the role, the candidate's demonstrated impact, and the overall quality of communication.\n",
    "Your final selection should be the one that is most likely to secure an interview.\n",
    "\"\"\""
   ]
  },
  {
   "cell_type": "code",
   "execution_count": 32,
   "id": "9c4a3f88",
   "metadata": {},
   "outputs": [],
   "source": [
    "hr_manager = Agent(\n",
    "    name=\"HR Manager\",\n",
    "    instructions=hr_manager_instructions,\n",
    "    tools=candidate_tools,\n",
    "    handoffs=[emailer_agent],\n",
    "    model=\"gpt-4o-mini\"\n",
    ")"
   ]
  },
  {
   "cell_type": "code",
   "execution_count": 33,
   "id": "f7183925",
   "metadata": {},
   "outputs": [],
   "source": [
    "message = \"Prepare a job application email addressed to 'Dear Hiring Manager' from John Doe\""
   ]
  },
  {
   "cell_type": "code",
   "execution_count": 34,
   "id": "c57747f4",
   "metadata": {},
   "outputs": [
    {
     "data": {
      "image/svg+xml": [
       "<?xml version=\"1.0\" encoding=\"UTF-8\" standalone=\"no\"?>\n",
       "<!DOCTYPE svg PUBLIC \"-//W3C//DTD SVG 1.1//EN\"\n",
       " \"http://www.w3.org/Graphics/SVG/1.1/DTD/svg11.dtd\">\n",
       "<!-- Generated by graphviz version 2.43.0 (0)\n",
       " -->\n",
       "<!-- Title: G Pages: 1 -->\n",
       "<svg width=\"884pt\" height=\"297pt\"\n",
       " viewBox=\"0.00 0.00 883.68 297.05\" xmlns=\"http://www.w3.org/2000/svg\" xmlns:xlink=\"http://www.w3.org/1999/xlink\">\n",
       "<g id=\"graph0\" class=\"graph\" transform=\"scale(1 1) rotate(0) translate(4 293.05)\">\n",
       "<title>G</title>\n",
       "<polygon fill=\"white\" stroke=\"transparent\" points=\"-4,4 -4,-293.05 879.68,-293.05 879.68,4 -4,4\"/>\n",
       "<!-- __start__ -->\n",
       "<g id=\"node1\" class=\"node\">\n",
       "<title>__start__</title>\n",
       "<ellipse fill=\"lightblue\" stroke=\"black\" cx=\"256.02\" cy=\"-272.79\" rx=\"51.74\" ry=\"16.03\"/>\n",
       "<text text-anchor=\"middle\" x=\"256.02\" y=\"-269.09\" font-family=\"Arial\" font-size=\"14.00\">__start__</text>\n",
       "</g>\n",
       "<!-- HR Manager -->\n",
       "<g id=\"node3\" class=\"node\">\n",
       "<title>HR Manager</title>\n",
       "<polygon fill=\"lightyellow\" stroke=\"black\" points=\"310.02,-220.53 202.02,-220.53 202.02,-162.53 310.02,-162.53 310.02,-220.53\"/>\n",
       "<text text-anchor=\"middle\" x=\"256.02\" y=\"-187.83\" font-family=\"Arial\" font-size=\"14.00\">HR Manager</text>\n",
       "</g>\n",
       "<!-- __start__&#45;&gt;HR Manager -->\n",
       "<g id=\"edge1\" class=\"edge\">\n",
       "<title>__start__&#45;&gt;HR Manager</title>\n",
       "<path fill=\"none\" stroke=\"black\" stroke-width=\"1.5\" d=\"M256.02,-256.51C256.02,-249.12 256.02,-239.89 256.02,-230.76\"/>\n",
       "<polygon fill=\"black\" stroke=\"black\" stroke-width=\"1.5\" points=\"259.52,-230.6 256.02,-220.6 252.52,-230.6 259.52,-230.6\"/>\n",
       "</g>\n",
       "<!-- __end__ -->\n",
       "<g id=\"node2\" class=\"node\">\n",
       "<title>__end__</title>\n",
       "<ellipse fill=\"lightblue\" stroke=\"black\" cx=\"498.02\" cy=\"-16.26\" rx=\"48.58\" ry=\"16.03\"/>\n",
       "<text text-anchor=\"middle\" x=\"498.02\" y=\"-12.56\" font-family=\"Arial\" font-size=\"14.00\">__end__</text>\n",
       "</g>\n",
       "<!-- junior_candidate -->\n",
       "<g id=\"node4\" class=\"node\">\n",
       "<title>junior_candidate</title>\n",
       "<ellipse fill=\"lightgreen\" stroke=\"black\" cx=\"82.02\" cy=\"-97.53\" rx=\"82.05\" ry=\"16.03\"/>\n",
       "<text text-anchor=\"middle\" x=\"82.02\" y=\"-93.83\" font-family=\"Arial\" font-size=\"14.00\">junior_candidate</text>\n",
       "</g>\n",
       "<!-- HR Manager&#45;&gt;junior_candidate -->\n",
       "<g id=\"edge2\" class=\"edge\">\n",
       "<title>HR Manager&#45;&gt;junior_candidate</title>\n",
       "<path fill=\"none\" stroke=\"black\" stroke-width=\"1.5\" stroke-dasharray=\"1,5\" d=\"M201.91,-165.14C172.91,-150.34 138.26,-131.93 113.62,-118.22\"/>\n",
       "<polygon fill=\"black\" stroke=\"black\" stroke-width=\"1.5\" points=\"115.14,-115.06 104.7,-113.22 111.71,-121.16 115.14,-115.06\"/>\n",
       "</g>\n",
       "<!-- mid_candidate -->\n",
       "<g id=\"node5\" class=\"node\">\n",
       "<title>mid_candidate</title>\n",
       "<ellipse fill=\"lightgreen\" stroke=\"black\" cx=\"256.02\" cy=\"-97.53\" rx=\"74.49\" ry=\"16.03\"/>\n",
       "<text text-anchor=\"middle\" x=\"256.02\" y=\"-93.83\" font-family=\"Arial\" font-size=\"14.00\">mid_candidate</text>\n",
       "</g>\n",
       "<!-- HR Manager&#45;&gt;mid_candidate -->\n",
       "<g id=\"edge4\" class=\"edge\">\n",
       "<title>HR Manager&#45;&gt;mid_candidate</title>\n",
       "<path fill=\"none\" stroke=\"black\" stroke-width=\"1.5\" stroke-dasharray=\"1,5\" d=\"M249.75,-162.42C249.07,-150.21 249.12,-135.99 249.91,-124.08\"/>\n",
       "<polygon fill=\"black\" stroke=\"black\" stroke-width=\"1.5\" points=\"253.41,-124.18 250.84,-113.9 246.44,-123.54 253.41,-124.18\"/>\n",
       "</g>\n",
       "<!-- senior_candidate -->\n",
       "<g id=\"node6\" class=\"node\">\n",
       "<title>senior_candidate</title>\n",
       "<ellipse fill=\"lightgreen\" stroke=\"black\" cx=\"432.02\" cy=\"-97.53\" rx=\"84.29\" ry=\"16.03\"/>\n",
       "<text text-anchor=\"middle\" x=\"432.02\" y=\"-93.83\" font-family=\"Arial\" font-size=\"14.00\">senior_candidate</text>\n",
       "</g>\n",
       "<!-- HR Manager&#45;&gt;senior_candidate -->\n",
       "<g id=\"edge6\" class=\"edge\">\n",
       "<title>HR Manager&#45;&gt;senior_candidate</title>\n",
       "<path fill=\"none\" stroke=\"black\" stroke-width=\"1.5\" stroke-dasharray=\"1,5\" d=\"M303.51,-162.42C330.78,-147.74 364.63,-130.17 390.79,-117.18\"/>\n",
       "<polygon fill=\"black\" stroke=\"black\" stroke-width=\"1.5\" points=\"392.63,-120.17 400.05,-112.61 389.54,-113.89 392.63,-120.17\"/>\n",
       "</g>\n",
       "<!-- Job Application Email Manager -->\n",
       "<g id=\"node7\" class=\"node\">\n",
       "<title>Job Application Email Manager</title>\n",
       "<path fill=\"none\" stroke=\"black\" d=\"M726.02,-126.53C726.02,-126.53 546.02,-126.53 546.02,-126.53 540.02,-126.53 534.02,-120.53 534.02,-114.53 534.02,-114.53 534.02,-80.53 534.02,-80.53 534.02,-74.53 540.02,-68.53 546.02,-68.53 546.02,-68.53 726.02,-68.53 726.02,-68.53 732.02,-68.53 738.02,-74.53 738.02,-80.53 738.02,-80.53 738.02,-114.53 738.02,-114.53 738.02,-120.53 732.02,-126.53 726.02,-126.53\"/>\n",
       "<text text-anchor=\"middle\" x=\"636.02\" y=\"-93.83\" font-family=\"Arial\" font-size=\"14.00\">Job Application Email Manager</text>\n",
       "</g>\n",
       "<!-- HR Manager&#45;&gt;Job Application Email Manager -->\n",
       "<g id=\"edge8\" class=\"edge\">\n",
       "<title>HR Manager&#45;&gt;Job Application Email Manager</title>\n",
       "<path fill=\"none\" stroke=\"black\" stroke-width=\"1.5\" d=\"M310.18,-177.87C362.41,-165.61 443.98,-146.33 524.06,-126.75\"/>\n",
       "<polygon fill=\"black\" stroke=\"black\" stroke-width=\"1.5\" points=\"524.94,-130.14 533.82,-124.36 523.28,-123.34 524.94,-130.14\"/>\n",
       "</g>\n",
       "<!-- junior_candidate&#45;&gt;HR Manager -->\n",
       "<g id=\"edge3\" class=\"edge\">\n",
       "<title>junior_candidate&#45;&gt;HR Manager</title>\n",
       "<path fill=\"none\" stroke=\"black\" stroke-width=\"1.5\" stroke-dasharray=\"1,5\" d=\"M113.69,-112.61C137.81,-124.53 171.49,-142.07 200.07,-157.5\"/>\n",
       "<polygon fill=\"black\" stroke=\"black\" stroke-width=\"1.5\" points=\"198.69,-160.73 209.15,-162.42 202.02,-154.58 198.69,-160.73\"/>\n",
       "</g>\n",
       "<!-- mid_candidate&#45;&gt;HR Manager -->\n",
       "<g id=\"edge5\" class=\"edge\">\n",
       "<title>mid_candidate&#45;&gt;HR Manager</title>\n",
       "<path fill=\"none\" stroke=\"black\" stroke-width=\"1.5\" stroke-dasharray=\"1,5\" d=\"M261.21,-113.9C262.5,-124.42 262.99,-138.85 262.69,-152.36\"/>\n",
       "<polygon fill=\"black\" stroke=\"black\" stroke-width=\"1.5\" points=\"259.19,-152.3 262.3,-162.42 266.18,-152.57 259.19,-152.3\"/>\n",
       "</g>\n",
       "<!-- senior_candidate&#45;&gt;HR Manager -->\n",
       "<g id=\"edge7\" class=\"edge\">\n",
       "<title>senior_candidate&#45;&gt;HR Manager</title>\n",
       "<path fill=\"none\" stroke=\"black\" stroke-width=\"1.5\" stroke-dasharray=\"1,5\" d=\"M408.88,-113.3C386.09,-126.06 350.46,-144.9 319.29,-160.78\"/>\n",
       "<polygon fill=\"black\" stroke=\"black\" stroke-width=\"1.5\" points=\"317.54,-157.74 310.21,-165.39 320.71,-163.99 317.54,-157.74\"/>\n",
       "</g>\n",
       "<!-- Job Application Email Manager&#45;&gt;__end__ -->\n",
       "<g id=\"edge13\" class=\"edge\">\n",
       "<title>Job Application Email Manager&#45;&gt;__end__</title>\n",
       "<path fill=\"none\" stroke=\"black\" stroke-width=\"1.5\" d=\"M586.98,-68.36C568.16,-57.55 547.16,-45.49 530.3,-35.8\"/>\n",
       "<polygon fill=\"black\" stroke=\"black\" stroke-width=\"1.5\" points=\"531.81,-32.63 521.4,-30.69 528.32,-38.7 531.81,-32.63\"/>\n",
       "</g>\n",
       "<!-- subject_writer -->\n",
       "<g id=\"node8\" class=\"node\">\n",
       "<title>subject_writer</title>\n",
       "<ellipse fill=\"lightgreen\" stroke=\"black\" cx=\"636.02\" cy=\"-16.26\" rx=\"70.92\" ry=\"16.03\"/>\n",
       "<text text-anchor=\"middle\" x=\"636.02\" y=\"-12.56\" font-family=\"Arial\" font-size=\"14.00\">subject_writer</text>\n",
       "</g>\n",
       "<!-- Job Application Email Manager&#45;&gt;subject_writer -->\n",
       "<g id=\"edge9\" class=\"edge\">\n",
       "<title>Job Application Email Manager&#45;&gt;subject_writer</title>\n",
       "<path fill=\"none\" stroke=\"black\" stroke-width=\"1.5\" stroke-dasharray=\"1,5\" d=\"M629.53,-68.36C629.15,-60.07 629.19,-51.04 629.66,-42.92\"/>\n",
       "<polygon fill=\"black\" stroke=\"black\" stroke-width=\"1.5\" points=\"633.15,-43.15 630.52,-32.89 626.18,-42.55 633.15,-43.15\"/>\n",
       "</g>\n",
       "<!-- html_converter -->\n",
       "<g id=\"node9\" class=\"node\">\n",
       "<title>html_converter</title>\n",
       "<ellipse fill=\"lightgreen\" stroke=\"black\" cx=\"800.02\" cy=\"-16.26\" rx=\"75.82\" ry=\"16.03\"/>\n",
       "<text text-anchor=\"middle\" x=\"800.02\" y=\"-12.56\" font-family=\"Arial\" font-size=\"14.00\">html_converter</text>\n",
       "</g>\n",
       "<!-- Job Application Email Manager&#45;&gt;html_converter -->\n",
       "<g id=\"edge11\" class=\"edge\">\n",
       "<title>Job Application Email Manager&#45;&gt;html_converter</title>\n",
       "<path fill=\"none\" stroke=\"black\" stroke-width=\"1.5\" stroke-dasharray=\"1,5\" d=\"M687.81,-68.36C710.24,-57.27 736.14,-44.88 757.43,-35.07\"/>\n",
       "<polygon fill=\"black\" stroke=\"black\" stroke-width=\"1.5\" points=\"758.92,-38.24 766.56,-30.9 756.01,-31.87 758.92,-38.24\"/>\n",
       "</g>\n",
       "<!-- subject_writer&#45;&gt;Job Application Email Manager -->\n",
       "<g id=\"edge10\" class=\"edge\">\n",
       "<title>subject_writer&#45;&gt;Job Application Email Manager</title>\n",
       "<path fill=\"none\" stroke=\"black\" stroke-width=\"1.5\" stroke-dasharray=\"1,5\" d=\"M641.52,-32.89C642.4,-40.23 642.82,-49.33 642.77,-58.34\"/>\n",
       "<polygon fill=\"black\" stroke=\"black\" stroke-width=\"1.5\" points=\"639.27,-58.27 642.52,-68.36 646.27,-58.45 639.27,-58.27\"/>\n",
       "</g>\n",
       "<!-- html_converter&#45;&gt;Job Application Email Manager -->\n",
       "<g id=\"edge12\" class=\"edge\">\n",
       "<title>html_converter&#45;&gt;Job Application Email Manager</title>\n",
       "<path fill=\"none\" stroke=\"black\" stroke-width=\"1.5\" stroke-dasharray=\"1,5\" d=\"M775.36,-31.77C757.88,-40.79 733.54,-52.76 710.08,-63.95\"/>\n",
       "<polygon fill=\"black\" stroke=\"black\" stroke-width=\"1.5\" points=\"708.33,-60.91 700.8,-68.36 711.33,-67.23 708.33,-60.91\"/>\n",
       "</g>\n",
       "</g>\n",
       "</svg>\n"
      ],
      "text/plain": [
       "<graphviz.sources.Source at 0x74dfbad40c50>"
      ]
     },
     "execution_count": 34,
     "metadata": {},
     "output_type": "execute_result"
    }
   ],
   "source": [
    "with trace(\"Automated Job Application Process\"):\n",
    "    result = await Runner.run(hr_manager, message)\n",
    "\n",
    "from agents.extensions.visualization import draw_graph\n",
    "draw_graph(hr_manager)"
   ]
  }
 ],
 "metadata": {
  "kernelspec": {
   "display_name": "llms",
   "language": "python",
   "name": "python3"
  },
  "language_info": {
   "codemirror_mode": {
    "name": "ipython",
    "version": 3
   },
   "file_extension": ".py",
   "mimetype": "text/x-python",
   "name": "python",
   "nbconvert_exporter": "python",
   "pygments_lexer": "ipython3",
   "version": "3.11.12"
  }
 },
 "nbformat": 4,
 "nbformat_minor": 5
}
